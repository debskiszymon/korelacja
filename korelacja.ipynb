{
 "cells": [
  {
   "cell_type": "code",
   "execution_count": 143,
   "metadata": {},
   "outputs": [],
   "source": [
    "import pandas as pd"
   ]
  },
  {
   "cell_type": "code",
   "execution_count": 144,
   "metadata": {},
   "outputs": [],
   "source": [
    "df = pd.read_csv(\"data.csv\", sep=\";\")"
   ]
  },
  {
   "cell_type": "code",
   "execution_count": 145,
   "metadata": {},
   "outputs": [],
   "source": [
    "df = df.apply(lambda x: x.str.replace(',','.'))"
   ]
  },
  {
   "cell_type": "code",
   "execution_count": 146,
   "metadata": {},
   "outputs": [
    {
     "data": {
      "text/html": [
       "<div>\n",
       "<style scoped>\n",
       "    .dataframe tbody tr th:only-of-type {\n",
       "        vertical-align: middle;\n",
       "    }\n",
       "\n",
       "    .dataframe tbody tr th {\n",
       "        vertical-align: top;\n",
       "    }\n",
       "\n",
       "    .dataframe thead th {\n",
       "        text-align: right;\n",
       "    }\n",
       "</style>\n",
       "<table border=\"1\" class=\"dataframe\">\n",
       "  <thead>\n",
       "    <tr style=\"text-align: right;\">\n",
       "      <th></th>\n",
       "      <th>Country</th>\n",
       "      <th>Fertility rate</th>\n",
       "      <th>Life expectancy at birth</th>\n",
       "    </tr>\n",
       "  </thead>\n",
       "  <tbody>\n",
       "    <tr>\n",
       "      <th>0</th>\n",
       "      <td>x1</td>\n",
       "      <td>1.300</td>\n",
       "      <td>76.84878</td>\n",
       "    </tr>\n",
       "    <tr>\n",
       "      <th>1</th>\n",
       "      <td>x2</td>\n",
       "      <td>1.950</td>\n",
       "      <td>81.40732</td>\n",
       "    </tr>\n",
       "    <tr>\n",
       "      <th>2</th>\n",
       "      <td>x3</td>\n",
       "      <td>2.466</td>\n",
       "      <td>77.57895</td>\n",
       "    </tr>\n",
       "    <tr>\n",
       "      <th>3</th>\n",
       "      <td>x4</td>\n",
       "      <td>1.600</td>\n",
       "      <td>74.16341</td>\n",
       "    </tr>\n",
       "    <tr>\n",
       "      <th>4</th>\n",
       "      <td>x5</td>\n",
       "      <td>2.952</td>\n",
       "      <td>68.84907</td>\n",
       "    </tr>\n",
       "    <tr>\n",
       "      <th>5</th>\n",
       "      <td>x6</td>\n",
       "      <td>1.801</td>\n",
       "      <td>73.88595</td>\n",
       "    </tr>\n",
       "    <tr>\n",
       "      <th>6</th>\n",
       "      <td>x7</td>\n",
       "      <td>1.340</td>\n",
       "      <td>75.26829</td>\n",
       "    </tr>\n",
       "    <tr>\n",
       "      <th>7</th>\n",
       "      <td>x8</td>\n",
       "      <td>1.340</td>\n",
       "      <td>76.26098</td>\n",
       "    </tr>\n",
       "    <tr>\n",
       "      <th>8</th>\n",
       "      <td>x9</td>\n",
       "      <td>1.630</td>\n",
       "      <td>80.57244</td>\n",
       "    </tr>\n",
       "    <tr>\n",
       "      <th>9</th>\n",
       "      <td>x10</td>\n",
       "      <td>2.326</td>\n",
       "      <td>65.46259</td>\n",
       "    </tr>\n",
       "    <tr>\n",
       "      <th>10</th>\n",
       "      <td>x11</td>\n",
       "      <td>2.436</td>\n",
       "      <td>67.54820</td>\n",
       "    </tr>\n",
       "    <tr>\n",
       "      <th>11</th>\n",
       "      <td>x12</td>\n",
       "      <td>6.563</td>\n",
       "      <td>55.02451</td>\n",
       "    </tr>\n",
       "    <tr>\n",
       "      <th>12</th>\n",
       "      <td>x13</td>\n",
       "      <td>1.283</td>\n",
       "      <td>76.27990</td>\n",
       "    </tr>\n",
       "    <tr>\n",
       "      <th>13</th>\n",
       "      <td>x14</td>\n",
       "      <td>1.430</td>\n",
       "      <td>82.29024</td>\n",
       "    </tr>\n",
       "    <tr>\n",
       "      <th>14</th>\n",
       "      <td>x15</td>\n",
       "      <td>1.988</td>\n",
       "      <td>69.80695</td>\n",
       "    </tr>\n",
       "    <tr>\n",
       "      <th>15</th>\n",
       "      <td>x16</td>\n",
       "      <td>1.610</td>\n",
       "      <td>81.40112</td>\n",
       "    </tr>\n",
       "    <tr>\n",
       "      <th>16</th>\n",
       "      <td>x17</td>\n",
       "      <td>1.921</td>\n",
       "      <td>82.19756</td>\n",
       "    </tr>\n",
       "    <tr>\n",
       "      <th>17</th>\n",
       "      <td>x18</td>\n",
       "      <td>2.400</td>\n",
       "      <td>74.22683</td>\n",
       "    </tr>\n",
       "    <tr>\n",
       "      <th>18</th>\n",
       "      <td>x19</td>\n",
       "      <td>1.495</td>\n",
       "      <td>80.12888</td>\n",
       "    </tr>\n",
       "    <tr>\n",
       "      <th>19</th>\n",
       "      <td>x20</td>\n",
       "      <td>4.705</td>\n",
       "      <td>45.55095</td>\n",
       "    </tr>\n",
       "  </tbody>\n",
       "</table>\n",
       "</div>"
      ],
      "text/plain": [
       "   Country  Fertility rate  Life expectancy at birth\n",
       "0       x1           1.300                  76.84878\n",
       "1       x2           1.950                  81.40732\n",
       "2       x3           2.466                  77.57895\n",
       "3       x4           1.600                  74.16341\n",
       "4       x5           2.952                  68.84907\n",
       "5       x6           1.801                  73.88595\n",
       "6       x7           1.340                  75.26829\n",
       "7       x8           1.340                  76.26098\n",
       "8       x9           1.630                  80.57244\n",
       "9      x10           2.326                  65.46259\n",
       "10     x11           2.436                  67.54820\n",
       "11     x12           6.563                  55.02451\n",
       "12     x13           1.283                  76.27990\n",
       "13     x14           1.430                  82.29024\n",
       "14     x15           1.988                  69.80695\n",
       "15     x16           1.610                  81.40112\n",
       "16     x17           1.921                  82.19756\n",
       "17     x18           2.400                  74.22683\n",
       "18     x19           1.495                  80.12888\n",
       "19     x20           4.705                  45.55095"
      ]
     },
     "execution_count": 146,
     "metadata": {},
     "output_type": "execute_result"
    }
   ],
   "source": [
    "df['Fertility rate'] = df['Fertility rate'].astype(float)\n",
    "df['Life expectancy at birth'] = df['Life expectancy at birth'].astype(float)\n",
    "df"
   ]
  },
  {
   "cell_type": "code",
   "execution_count": 147,
   "metadata": {},
   "outputs": [
    {
     "name": "stdout",
     "output_type": "stream",
     "text": [
      "Średnia: 73.2,\n",
      "Mediana: 75.8, \n",
      "Wariancja: 88.2 \n",
      "Moda: 0     45.6\n",
      "1     55.0\n",
      "2     65.5\n",
      "3     67.5\n",
      "4     68.8\n",
      "5     69.8\n",
      "6     73.9\n",
      "7     74.2\n",
      "8     74.2\n",
      "9     75.3\n",
      "10    76.3\n",
      "11    76.3\n",
      "12    76.8\n",
      "13    77.6\n",
      "14    80.1\n",
      "15    80.6\n",
      "16    81.4\n",
      "17    81.4\n",
      "18    82.2\n",
      "19    82.3\n",
      "dtype: float64\n"
     ]
    }
   ],
   "source": [
    "srednia = round(df['Life expectancy at birth'].mean(), 1)\n",
    "mediana = round(df['Life expectancy at birth'].median(), 1)\n",
    "moda = round(df['Life expectancy at birth'].mode(), 1)\n",
    "wariancja = round(df['Life expectancy at birth'].var(), 1)\n",
    "print(f\"Średnia: {srednia },\\nMediana: {mediana}, \\nWariancja: {wariancja} \\nModa: {moda}\")\n"
   ]
  },
  {
   "cell_type": "code",
   "execution_count": 148,
   "metadata": {},
   "outputs": [
    {
     "name": "stdout",
     "output_type": "stream",
     "text": [
      "Kowariancja: -9.94\n"
     ]
    }
   ],
   "source": [
    "kowariancja = df['Life expectancy at birth'].cov(df['Fertility rate'])\n",
    "print(f\"Kowariancja: {round(kowariancja, 2)}\")"
   ]
  },
  {
   "cell_type": "code",
   "execution_count": 149,
   "metadata": {},
   "outputs": [
    {
     "data": {
      "text/html": [
       "<div>\n",
       "<style scoped>\n",
       "    .dataframe tbody tr th:only-of-type {\n",
       "        vertical-align: middle;\n",
       "    }\n",
       "\n",
       "    .dataframe tbody tr th {\n",
       "        vertical-align: top;\n",
       "    }\n",
       "\n",
       "    .dataframe thead th {\n",
       "        text-align: right;\n",
       "    }\n",
       "</style>\n",
       "<table border=\"1\" class=\"dataframe\">\n",
       "  <thead>\n",
       "    <tr style=\"text-align: right;\">\n",
       "      <th></th>\n",
       "      <th>Fertility rate</th>\n",
       "      <th>Life expectancy at birth</th>\n",
       "    </tr>\n",
       "  </thead>\n",
       "  <tbody>\n",
       "    <tr>\n",
       "      <th>Fertility rate</th>\n",
       "      <td>1.665356</td>\n",
       "      <td>-9.943704</td>\n",
       "    </tr>\n",
       "    <tr>\n",
       "      <th>Life expectancy at birth</th>\n",
       "      <td>-9.943704</td>\n",
       "      <td>88.194112</td>\n",
       "    </tr>\n",
       "  </tbody>\n",
       "</table>\n",
       "</div>"
      ],
      "text/plain": [
       "                          Fertility rate  Life expectancy at birth\n",
       "Fertility rate                  1.665356                 -9.943704\n",
       "Life expectancy at birth       -9.943704                 88.194112"
      ]
     },
     "execution_count": 149,
     "metadata": {},
     "output_type": "execute_result"
    }
   ],
   "source": [
    "df.cov()"
   ]
  },
  {
   "cell_type": "code",
   "execution_count": 150,
   "metadata": {},
   "outputs": [
    {
     "data": {
      "text/html": [
       "<div>\n",
       "<style scoped>\n",
       "    .dataframe tbody tr th:only-of-type {\n",
       "        vertical-align: middle;\n",
       "    }\n",
       "\n",
       "    .dataframe tbody tr th {\n",
       "        vertical-align: top;\n",
       "    }\n",
       "\n",
       "    .dataframe thead th {\n",
       "        text-align: right;\n",
       "    }\n",
       "</style>\n",
       "<table border=\"1\" class=\"dataframe\">\n",
       "  <thead>\n",
       "    <tr style=\"text-align: right;\">\n",
       "      <th></th>\n",
       "      <th>Fertility rate</th>\n",
       "      <th>Life expectancy at birth</th>\n",
       "    </tr>\n",
       "  </thead>\n",
       "  <tbody>\n",
       "    <tr>\n",
       "      <th>Fertility rate</th>\n",
       "      <td>1.000000</td>\n",
       "      <td>-0.820493</td>\n",
       "    </tr>\n",
       "    <tr>\n",
       "      <th>Life expectancy at birth</th>\n",
       "      <td>-0.820493</td>\n",
       "      <td>1.000000</td>\n",
       "    </tr>\n",
       "  </tbody>\n",
       "</table>\n",
       "</div>"
      ],
      "text/plain": [
       "                          Fertility rate  Life expectancy at birth\n",
       "Fertility rate                  1.000000                 -0.820493\n",
       "Life expectancy at birth       -0.820493                  1.000000"
      ]
     },
     "execution_count": 150,
     "metadata": {},
     "output_type": "execute_result"
    }
   ],
   "source": [
    "df.corr()"
   ]
  },
  {
   "cell_type": "code",
   "execution_count": 151,
   "metadata": {},
   "outputs": [
    {
     "name": "stdout",
     "output_type": "stream",
     "text": [
      "Korelacja: -0.82\n"
     ]
    }
   ],
   "source": [
    "korelacja = df['Life expectancy at birth'].cov(df['Fertility rate']) / (df['Life expectancy at birth'].std() * df['Fertility rate'].std())\n",
    "print(f\"Korelacja: {round(korelacja, 2)}\")\n"
   ]
  },
  {
   "cell_type": "markdown",
   "metadata": {},
   "source": [
    "# Podsumowanie:\n",
    "##### Korelacja na poziomie -0,82 jest bardzo wysoka natomiast w naszym przypadku dochodzę do wniosku że jest to przypadek. Dzietność nie powinna mieć wpływu na oczekiwaną długość życią.\n",
    "##### Wysoką korelację można wytłumaczyć tym, że w niska dzietność zazwyczaj występuje w krajach wysoko rozwiniętych gdzie zazwyczaj również występuje ponad przeciętna długość życia."
   ]
  },
  {
   "cell_type": "code",
   "execution_count": 172,
   "metadata": {},
   "outputs": [
    {
     "name": "stdout",
     "output_type": "stream",
     "text": [
      "Średnia: 73.2\n",
      "Średnia oczekiwana długość życia leży pomiędzy:\n",
      "73.15 lat a 74.98 lat\n"
     ]
    }
   ],
   "source": [
    "znorm_roz_norm = 1.96\n",
    "odch_std_pop = 9.09\n",
    "\n",
    "poz_uf_dol = srednia - (znorm_roz_norm * (odch_std_pop/ (df['Life expectancy at birth'].count()**1/2)))\n",
    "poz_uf_gor = srednia + (znorm_roz_norm * (odch_std_pop/ (df['Life expectancy at birth'].count()**1/2)))\n",
    "print(f\"Średnia: {srednia}\\nŚrednia oczekiwana długość życia leży pomiędzy:\\n{round(poz_uf,2)} lat a {round(poz_uf_gor,2)} lat\")\n"
   ]
  },
  {
   "cell_type": "code",
   "execution_count": null,
   "metadata": {},
   "outputs": [],
   "source": []
  }
 ],
 "metadata": {
  "kernelspec": {
   "display_name": "Python 3",
   "language": "python",
   "name": "python3"
  },
  "language_info": {
   "codemirror_mode": {
    "name": "ipython",
    "version": 3
   },
   "file_extension": ".py",
   "mimetype": "text/x-python",
   "name": "python",
   "nbconvert_exporter": "python",
   "pygments_lexer": "ipython3",
   "version": "3.8.5"
  }
 },
 "nbformat": 4,
 "nbformat_minor": 4
}
